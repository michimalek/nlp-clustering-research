{
 "cells": [
  {
   "cell_type": "code",
   "execution_count": 8,
   "metadata": {},
   "outputs": [],
   "source": [
    "import numpy as np\n",
    "import pandas as pd\n",
    "from scripts.embeddings.preprocessing import prepare_words, to_set, prepare_sentences\n",
    "from scripts.embeddings.tfidf import get_matrix\n",
    "from scripts.clustering.kmeans import Kmeans\n",
    "from sklearn.cluster import SpectralClustering\n",
    "from sklearn.metrics import silhouette_score\n",
    "import seaborn as sns\n",
    "import matplotlib.pyplot as plt"
   ]
  },
  {
   "cell_type": "code",
   "execution_count": 12,
   "metadata": {},
   "outputs": [],
   "source": [
    "recs = pd.read_csv(\"data/Recommendations.csv\")\n",
    "uniq = recs[\"Recommendation\"].unique()\n",
    "docs = prepare_sentences(uniq)"
   ]
  },
  {
   "cell_type": "code",
   "execution_count": 29,
   "metadata": {},
   "outputs": [],
   "source": [
    "def find_k(max_k, matrix):\n",
    "    iters = range(2, max_k+1)\n",
    "    \n",
    "    sse = []\n",
    "    silhouette = []\n",
    "    \n",
    "    for k in iters:\n",
    "        model = SpectralClustering(n_clusters=k)\n",
    "        model.fit(matrix)\n",
    "        # sse.append(model.fit(matrix).inertia_)\n",
    "        silhouette.append(silhouette_score(matrix, model.labels_))\n",
    "        print('Fit {} clusters'.format(k))\n",
    "        \n",
    "    # f, ax = plt.subplots(1, 1)\n",
    "    # ax.plot(iters, sse, marker='o')\n",
    "    # ax.set_xlabel('Cluster Centers')\n",
    "    # ax.set_xticks(iters)\n",
    "    # ax.set_xticklabels(iters)\n",
    "    # ax.set_ylabel('SSE')\n",
    "    # ax.set_title('SSE by Cluster Center Plot')\n",
    "    # plt.tight_layout()\n",
    "    # plt.show()\n",
    "\n",
    "    f, ax = plt.subplots(1, 1)\n",
    "    ax.plot(iters, silhouette, marker='o')\n",
    "    ax.set_xlabel('Cluster Centers')\n",
    "    ax.set_xticks(iters)\n",
    "    ax.set_xticklabels(iters)\n",
    "    ax.set_ylabel('Score')\n",
    "    ax.set_title('Silhoute Score by Cluster')\n",
    "    plt.tight_layout()\n",
    "    plt.show()"
   ]
  },
  {
   "cell_type": "code",
   "execution_count": 32,
   "metadata": {},
   "outputs": [
    {
     "name": "stdout",
     "output_type": "stream",
     "text": [
      "Fit 2 clusters\n",
      "Fit 3 clusters\n",
      "Fit 4 clusters\n",
      "Fit 5 clusters\n",
      "Fit 6 clusters\n",
      "Fit 7 clusters\n",
      "Fit 8 clusters\n",
      "Fit 9 clusters\n",
      "Fit 10 clusters\n",
      "Fit 11 clusters\n",
      "Fit 12 clusters\n",
      "Fit 13 clusters\n",
      "Fit 14 clusters\n",
      "Fit 15 clusters\n",
      "Fit 16 clusters\n",
      "Fit 17 clusters\n",
      "Fit 18 clusters\n",
      "Fit 19 clusters\n",
      "Fit 20 clusters\n",
      "Fit 21 clusters\n",
      "Fit 22 clusters\n",
      "Fit 23 clusters\n",
      "Fit 24 clusters\n",
      "Fit 25 clusters\n",
      "Fit 26 clusters\n",
      "Fit 27 clusters\n",
      "Fit 28 clusters\n",
      "Fit 29 clusters\n",
      "Fit 30 clusters\n",
      "Fit 31 clusters\n",
      "Fit 32 clusters\n",
      "Fit 33 clusters\n",
      "Fit 34 clusters\n",
      "Fit 35 clusters\n",
      "Fit 36 clusters\n",
      "Fit 37 clusters\n",
      "Fit 38 clusters\n",
      "Fit 39 clusters\n",
      "Fit 40 clusters\n",
      "Fit 41 clusters\n",
      "Fit 42 clusters\n",
      "Fit 43 clusters\n",
      "Fit 44 clusters\n",
      "Fit 45 clusters\n",
      "Fit 46 clusters\n",
      "Fit 47 clusters\n",
      "Fit 48 clusters\n",
      "Fit 49 clusters\n",
      "Fit 50 clusters\n",
      "Fit 51 clusters\n",
      "Fit 52 clusters\n",
      "Fit 53 clusters\n",
      "Fit 54 clusters\n",
      "Fit 55 clusters\n",
      "Fit 56 clusters\n",
      "Fit 57 clusters\n",
      "Fit 58 clusters\n",
      "Fit 59 clusters\n",
      "Fit 60 clusters\n",
      "Fit 61 clusters\n",
      "Fit 62 clusters\n",
      "Fit 63 clusters\n",
      "Fit 64 clusters\n",
      "Fit 65 clusters\n",
      "Fit 66 clusters\n",
      "Fit 67 clusters\n",
      "Fit 68 clusters\n",
      "Fit 69 clusters\n",
      "Fit 70 clusters\n",
      "Fit 71 clusters\n",
      "Fit 72 clusters\n",
      "Fit 73 clusters\n",
      "Fit 74 clusters\n",
      "Fit 75 clusters\n",
      "Fit 76 clusters\n",
      "Fit 77 clusters\n",
      "Fit 78 clusters\n",
      "Fit 79 clusters\n",
      "Fit 80 clusters\n",
      "Fit 81 clusters\n",
      "Fit 82 clusters\n",
      "Fit 83 clusters\n",
      "Fit 84 clusters\n",
      "Fit 85 clusters\n",
      "Fit 86 clusters\n",
      "Fit 87 clusters\n",
      "Fit 88 clusters\n",
      "Fit 89 clusters\n",
      "Fit 90 clusters\n",
      "Fit 91 clusters\n",
      "Fit 92 clusters\n",
      "Fit 93 clusters\n",
      "Fit 94 clusters\n",
      "Fit 95 clusters\n",
      "Fit 96 clusters\n",
      "Fit 97 clusters\n",
      "Fit 98 clusters\n",
      "Fit 99 clusters\n",
      "Fit 100 clusters\n"
     ]
    },
    {
     "data": {
      "image/png": "[encoded data removed]",
      "text/plain": [
       "<Figure size 432x288 with 1 Axes>"
      ]
     },
     "metadata": {
      "needs_background": "light"
     },
     "output_type": "display_data"
    }
   ],
   "source": [
    "find_k(100,get_matrix(docs))"
   ]
  },
  {
   "cell_type": "code",
   "execution_count": 33,
   "metadata": {},
   "outputs": [
    {
     "data": {
      "text/plain": [
       "array([58, 58, 31, 31, 11, 49, 14, 54, 13, 50, 42, 42, 11,  4, 55,  9, 44,\n",
       "       48, 27, 19, 35,  2, 27,  3, 54,  3, 33, 24, 33, 38, 59, 35, 59, 51,\n",
       "       45, 22, 24, 24,  6, 17, 28, 11, 28, 11, 29,  5,  5,  5, 12,  9, 37,\n",
       "       25,  3, 55, 27, 11, 11, 56,  7, 52, 48, 32, 52, 40, 40,  3, 11, 53,\n",
       "       11, 10, 10, 10, 11, 47, 47, 10, 11,  3, 50, 29,  4,  4, 50, 50, 51,\n",
       "       52, 39, 52, 11, 26, 34, 55, 34, 11, 25, 36, 14, 46,  7, 46, 53, 57,\n",
       "       38, 43,  8,  8, 21, 21, 16, 15, 27,  1, 16, 34, 45, 16, 41,  1, 45,\n",
       "       11,  0, 57, 26, 41, 20,  7, 37,  2,  2, 57, 19, 19, 51,  3, 20, 11,\n",
       "       49,  1, 32, 11, 30, 11, 18, 18, 12,  2, 41, 29, 29, 11, 43, 36, 23,\n",
       "       23,  7, 39, 15, 53, 11, 11, 14,  2,  2,  2, 13, 13, 22, 17, 44,  3,\n",
       "       37, 37, 44,  9,  6,  0, 46, 43, 30])"
      ]
     },
     "execution_count": 33,
     "metadata": {},
     "output_type": "execute_result"
    }
   ],
   "source": [
    "model = SpectralClustering(n_clusters=60)\n",
    "model.fit(get_matrix(docs))\n",
    "model.labels_"
   ]
  }
 ],
 "metadata": {
  "interpreter": {
   "hash": "61076814ae14059691efa197a0305cb04a7d95ecd704f7024339357704be25cb"
  },
  "kernelspec": {
   "display_name": "Python 3.9.12 64-bit",
   "language": "python",
   "name": "python3"
  },
  "language_info": {
   "codemirror_mode": {
    "name": "ipython",
    "version": 3
   },
   "file_extension": ".py",
   "mimetype": "text/x-python",
   "name": "python",
   "nbconvert_exporter": "python",
   "pygments_lexer": "ipython3",
   "version": "3.9.12"
  },
  "orig_nbformat": 4
 },
 "nbformat": 4,
 "nbformat_minor": 2
}
