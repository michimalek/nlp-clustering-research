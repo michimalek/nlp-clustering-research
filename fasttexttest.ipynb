{
 "cells": [
  {
   "cell_type": "code",
   "execution_count": 29,
   "metadata": {},
   "outputs": [],
   "source": [
    "from gensim.models import Word2Vec\n",
    "import gensim.downloader as api\n",
    "import numpy as np\n",
    "import pandas as pd\n",
    "from scripts.embeddings.preprocessing import prepare_sentences, remove_duplicates\n",
    "from umap import UMAP\n",
    "from sentence_transformers import SentenceTransformer\n",
    "import matplotlib.pyplot as plt\n",
    "import umap.plot\n"
   ]
  },
  {
   "cell_type": "code",
   "execution_count": 19,
   "metadata": {},
   "outputs": [
    {
     "data": {
      "text/plain": [
       "['accept lower level service',\n",
       " 'accept risk untested scenario change service level accordingly',\n",
       " 'acknowledge mistake compensate',\n",
       " 'acknowledge mistake compensate give insight use improvement',\n",
       " 'actively communicate status expected resolution time available',\n",
       " 'align required available crisis comms channel heat moment',\n",
       " 'apply change management roadmap cm process program management',\n",
       " 'ask smart phone vendor different retry scheme',\n",
       " 'assign train deputy',\n",
       " 'attach value improvement process',\n",
       " 'be front runner well',\n",
       " 'be part research report',\n",
       " 'block number range release stepwise',\n",
       " 'bronze v gold quality service level',\n",
       " 'build crisis organisation',\n",
       " 'business continuity plan',\n",
       " 'buy tool',\n",
       " 'central contact list',\n",
       " 'chase resource write execute ivr recording',\n",
       " 'check service connectivity case signalling storm give action perspective',\n",
       " 'clear guideline crisis communication',\n",
       " 'complete performance test new equipment gamma',\n",
       " 'configure monitoring recognize untested scenario',\n",
       " 'consider causal factor crisis communication approach',\n",
       " 'control switch network technology via sim via smart phone',\n",
       " 'create mandatory alignment crisis communication channel within entire organisation',\n",
       " 'create ad hoc virtual crisis communication structure heat moment',\n",
       " 'create overview claim timeline impact',\n",
       " 'create signoff virtual crisis communication structure',\n",
       " 'create awareness embed company strategic goal',\n",
       " 'create business case improvement programme including benefit',\n",
       " 'create clear guideline building crisis communication organization implement',\n",
       " 'create cost benefit analysis',\n",
       " 'create crisis communication plan bb',\n",
       " 'create function description al crt chair information manager advisor channel coordinator factcheckers',\n",
       " 'create high level root cause human failure proces failure technology failure stead lower level root cause',\n",
       " 'create overview impact via bia',\n",
       " 'create overview vital customer impact society',\n",
       " 'create specification',\n",
       " 'create proces statement stead content statement',\n",
       " 'create schedule process exception',\n",
       " 'create snapshot slow hour',\n",
       " 'create date overview schedule',\n",
       " 'crisis phone member icct',\n",
       " 'define improvement program sponsored report board',\n",
       " 'define organisation per crt including process procedure role description',\n",
       " 'define role description escalate',\n",
       " 'define role description',\n",
       " 'deploy specified adapt architecture accordingly',\n",
       " 'disaster recovery plan malfunctioning vstp',\n",
       " 'embed everbridge crisis team cmt icct mdt csirt hsw',\n",
       " 'emergency notification system ncv',\n",
       " 'enable multichannel communication',\n",
       " 'establish crisis organisation right mandate procedure resource skill',\n",
       " 'execute relevant test scenario',\n",
       " 'explore option backup change',\n",
       " 'financial buffer',\n",
       " 'get involved vendor testing ensure right scenario',\n",
       " 'give customer medium action perspective mitigate impact outage',\n",
       " 'give early information cause disturbance keep communicating',\n",
       " 'give one central part mandate overview monitor crisis improvement initiative',\n",
       " 'give form compensation movie addition call time concert ticket etc',\n",
       " 'give something influence influencers',\n",
       " 'have good introduction plan new technology',\n",
       " 'have good relationship press',\n",
       " 'have clear distinction different communication method give right attention',\n",
       " 'have penalty contract compensate loss due performance issue',\n",
       " 'have prepared statement ready type circumstance',\n",
       " 'have contact detail available social medium influencors',\n",
       " 'help information request informing impacted customer via respective icct customer contact channel',\n",
       " 'help reduce call load informing impacted customer via respective icct customer contact channel',\n",
       " 'help reduce overload informing impacted customer via respective icct customer contact channel',\n",
       " 'help reduce overload redimensioning maximum trafficload capability website',\n",
       " 'help reduce impact impacted customer via prepared statement',\n",
       " 'help reduce impact impacted customer via prepared statement action perspective',\n",
       " 'help reduce impacted customer via respective icct customer contact channel',\n",
       " 'implement required premise tooling',\n",
       " 'improve communication response time',\n",
       " 'improve culture improvement process craftmanship strategic tactical operational layer',\n",
       " 'improve multiple channel approach detect report disruption everbridge',\n",
       " 'improve quality service customer premise side',\n",
       " 'improve quality service gamma side',\n",
       " 'improve vnr solution',\n",
       " 'improvement recommendation implemented comms tooling logistics process pas slt risk acceptance mitigation',\n",
       " 'include bb crisis organisation',\n",
       " 'influence public accept new technology',\n",
       " 'influence perception customer medium giving right information right context right time',\n",
       " 'influence press giving extra information future…',\n",
       " 'inform public technological progress carry risk error',\n",
       " 'internal awareness campain',\n",
       " 'involve inform press timely manner based sound communication strategy',\n",
       " 'involve crisis organisation',\n",
       " 'involve influencors actor crisis communication',\n",
       " 'it responsibility company provide customer alternative connectivity mean information shared via customer contact channel',\n",
       " 'keep emergency capacity available',\n",
       " 'keep position research investment new technology',\n",
       " 'life cycle management',\n",
       " 'log cmt crt improvement incident',\n",
       " 'make checklist icct ensure required internal department informed outage',\n",
       " 'make crt member aware follow basic crt routine prepared preapproved statement feedbackloop',\n",
       " 'make arrangement virtual national roaming circumstance',\n",
       " 'make awareness campaign discus exemples training session',\n",
       " 'make benefit bau clear relate strategic company goal',\n",
       " 'make contractual agreement performance testing vendor',\n",
       " 'make crisis organisation member aware crisis tool available phone sims apps ncv',\n",
       " 'make crisis organisation member aware crisis tool available phone sims apps',\n",
       " 'make damage fine mitigation strategy clear part evaluation procedure',\n",
       " 'make damage fine part evaluation procedure',\n",
       " 'make dcc aware vital organisation use ncv phone number contact vz',\n",
       " 'make exact copy production equipment data load stress performance',\n",
       " 'make good test analysis possible scenario clear discussion relevance',\n",
       " 'make high level proces statement part incident management proces improve internal comms',\n",
       " 'make hospital aware ncv phone number contact gamma',\n",
       " 'make influencors part certain crisis communication strategy',\n",
       " 'make information manager responsible maintaining date contactlists scheduals',\n",
       " 'make ncc aware vital organisation use ncv phone number contact gamma',\n",
       " 'make network administration available crisis organisation',\n",
       " 'make shop part icct crisis comms channel',\n",
       " 'make sure cmt core resoution team get access required tool via information manager',\n",
       " 'make sure crisis organisation member well trained via resilience academy',\n",
       " 'make vnr available important customer',\n",
       " 'market position within group present positive result',\n",
       " 'marketing campain',\n",
       " 'monitor functioning vstp production network',\n",
       " 'negotiate claim',\n",
       " 'offer compensation outage period',\n",
       " 'outsource crisis communication crisis team',\n",
       " 'outsource performance test',\n",
       " 'outsource production test',\n",
       " 'positive campaign',\n",
       " 'prepare action perspective case materializing threat vulnerability service',\n",
       " 'prepare communicate action perspective',\n",
       " 'prepare bb incident crisis communication process procedure sunny day rainy day',\n",
       " 'prepare certain standard communication text recording advance',\n",
       " 'prepare claim mitigation strategy',\n",
       " 'prepare holding statement refined target group statement include mean share info mail voice spocs etc',\n",
       " 'prepare proces statement heat moment',\n",
       " 'prepare proces statement proactive letterbak threat similar outage make part statement repository',\n",
       " 'prepare form compensation movie addition call time ziggo dome ticket etc',\n",
       " 'prepare standard easy deploy compensation package',\n",
       " 'promote redundancy vnr dual sim',\n",
       " 'reassess',\n",
       " 'receive ass information severity service situation',\n",
       " 'receive ass information severity service situation inform crt crisis coordinator',\n",
       " 'redundant architecture failing stp',\n",
       " 'rent test capacity specific non functional test',\n",
       " 'repair network',\n",
       " 'report damage fine separately general ledger',\n",
       " 'report progress improvement proposal slt via chair cmt',\n",
       " 'resilience standard irt bb including vital customer customer contract',\n",
       " 'review performance test report vendor',\n",
       " 'rigourous risk analysis new technology incl market research',\n",
       " 'rigourous testing aimed finding unknown risk',\n",
       " 'rigourous testing aimed functionality vstp network',\n",
       " 'see technical measure reduce mitigate impact',\n",
       " 'set right expectation level customer campaign',\n",
       " 'shadowing exact copy',\n",
       " 'simulate production like circumstance',\n",
       " 'stay focused innovation completed succesfully',\n",
       " 'stop offering g g',\n",
       " 'strong incident management process',\n",
       " 'test center production like aspect functionality capacity performance security et cetera',\n",
       " 'test nonfunctional aspect production',\n",
       " 'test performance production',\n",
       " 'train arrange fall back',\n",
       " 'train staff crisis organisation',\n",
       " 'use rely high level root cause human failure proces failure technology failure stead lower level root cause',\n",
       " 'use rely prepared proces statement stead content statement',\n",
       " 'use available tool best effort base',\n",
       " 'use latent need part marketing crisis communication',\n",
       " 'use m team',\n",
       " 'use proven technology',\n",
       " 'use social medium tool like allestoringennl early indicator inform customer press proactively',\n",
       " 'use specific communication plan critical customer',\n",
       " 'use standard development specification',\n",
       " 'use available checklist per scenario customer contact channel',\n",
       " 'use crt feedback loop verify effectiveness crisis communication',\n",
       " 'vendor must perform test',\n",
       " 'vnr dual sim']"
      ]
     },
     "execution_count": 19,
     "metadata": {},
     "output_type": "execute_result"
    }
   ],
   "source": [
    "recs = pd.read_excel(\"data/Recommendations_label.xlsx\")\n",
    "uniq = recs[\"Recommendation\"].unique()\n",
    "clean = prepare_sentences(uniq)\n",
    "clean"
   ]
  },
  {
   "cell_type": "code",
   "execution_count": 20,
   "metadata": {},
   "outputs": [],
   "source": [
    "model = SentenceTransformer('sentence-t5-xl')\n",
    "embeddings = model.encode(clean)"
   ]
  },
  {
   "cell_type": "code",
   "execution_count": 34,
   "metadata": {},
   "outputs": [],
   "source": [
    "umap_model = UMAP().fit(embeddings)\n",
    "standard_embedding = umap_model.transform(embeddings)"
   ]
  },
  {
   "cell_type": "code",
   "execution_count": 31,
   "metadata": {},
   "outputs": [
    {
     "ename": "ValueError",
     "evalue": "invalid literal for int() with base 10: 'Accept a lower level of service'",
     "output_type": "error",
     "traceback": [
      "\u001b[1;31m---------------------------------------------------------------------------\u001b[0m",
      "\u001b[1;31mValueError\u001b[0m                                Traceback (most recent call last)",
      "\u001b[1;32mc:\\Users\\Michi\\Documents\\Projects\\nlp-clustering-research\\fasttexttest.ipynb Cell 5'\u001b[0m in \u001b[0;36m<cell line: 1>\u001b[1;34m()\u001b[0m\n\u001b[1;32m----> <a href='vscode-notebook-cell:/c%3A/Users/Michi/Documents/Projects/nlp-clustering-research/fasttexttest.ipynb#ch0000006?line=0'>1</a>\u001b[0m plt\u001b[39m.\u001b[39mscatter(standard_embedding[:, \u001b[39m0\u001b[39m], standard_embedding[:, \u001b[39m1\u001b[39m], c\u001b[39m=\u001b[39muniq\u001b[39m.\u001b[39;49mastype(\u001b[39mint\u001b[39;49m), s\u001b[39m=\u001b[39m\u001b[39m0.1\u001b[39m, cmap\u001b[39m=\u001b[39m\u001b[39m'\u001b[39m\u001b[39mSpectral\u001b[39m\u001b[39m'\u001b[39m)\n\u001b[0;32m      <a href='vscode-notebook-cell:/c%3A/Users/Michi/Documents/Projects/nlp-clustering-research/fasttexttest.ipynb#ch0000006?line=1'>2</a>\u001b[0m plt\u001b[39m.\u001b[39mshow()\n",
      "\u001b[1;31mValueError\u001b[0m: invalid literal for int() with base 10: 'Accept a lower level of service'"
     ]
    }
   ],
   "source": [
    "plt.scatter(standard_embedding[:, 0], standard_embedding[:, 1], c=uniq.astype(int), s=0.1, cmap='Spectral')\n",
    "plt.show()"
   ]
  },
  {
   "cell_type": "code",
   "execution_count": 43,
   "metadata": {},
   "outputs": [],
   "source": [
    "labels = pd.read_excel(\"results_new/meanshift_result.xlsx\")[\"Label\"]"
   ]
  },
  {
   "cell_type": "code",
   "execution_count": 44,
   "metadata": {},
   "outputs": [
    {
     "data": {
      "text/plain": [
       "<AxesSubplot:>"
      ]
     },
     "execution_count": 44,
     "metadata": {},
     "output_type": "execute_result"
    },
    {
     "data": {
      "image/png": "[encoded data removed]",
      "text/plain": [
       "<Figure size 800x800 with 1 Axes>"
      ]
     },
     "metadata": {},
     "output_type": "display_data"
    }
   ],
   "source": [
    "umap.plot.points(umap_model,labels=labels)"
   ]
  }
 ],
 "metadata": {
  "interpreter": {
   "hash": "61076814ae14059691efa197a0305cb04a7d95ecd704f7024339357704be25cb"
  },
  "kernelspec": {
   "display_name": "Python 3.9.12 64-bit",
   "language": "python",
   "name": "python3"
  },
  "language_info": {
   "codemirror_mode": {
    "name": "ipython",
    "version": 3
   },
   "file_extension": ".py",
   "mimetype": "text/x-python",
   "name": "python",
   "nbconvert_exporter": "python",
   "pygments_lexer": "ipython3",
   "version": "3.9.12"
  },
  "orig_nbformat": 4
 },
 "nbformat": 4,
 "nbformat_minor": 2
}
