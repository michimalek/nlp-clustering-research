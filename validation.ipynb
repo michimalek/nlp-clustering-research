{
 "cells": [
  {
   "cell_type": "code",
   "execution_count": 6,
   "metadata": {},
   "outputs": [],
   "source": [
    "import numpy as np\n",
    "import pandas as pd\n",
    "from scripts.embeddings.preprocessing import prepare_words, remove_duplicates, prepare_sentences\n",
    "from scripts.embeddings.tfidf import get_matrix\n",
    "from scripts.clustering.kmeans import Kmeans\n",
    "from sklearn.cluster import SpectralClustering\n",
    "from sklearn.metrics import silhouette_score\n",
    "import seaborn as sns\n",
    "import matplotlib.pyplot as plt\n",
    "from yellowbrick.cluster import silhouette_visualizer\n",
    "from scripts.clustering.validation import get_validation"
   ]
  },
  {
   "cell_type": "code",
   "execution_count": 2,
   "metadata": {},
   "outputs": [],
   "source": [
    "recs = pd.read_excel(\"data/Recommendations_label.xlsx\")\n",
    "uniq = recs[\"Recommendation\"].unique()\n",
    "docs = prepare_sentences(uniq)"
   ]
  },
  {
   "cell_type": "code",
   "execution_count": 4,
   "metadata": {},
   "outputs": [],
   "source": [
    "pred = pd.read_excel(\"results_new/kmeans_7_result.xlsx\")[\"Label\"]\n",
    "true = pd.read_excel(\"data/Recommendations_label.xlsx\")[\"Label\"]"
   ]
  },
  {
   "cell_type": "code",
   "execution_count": 7,
   "metadata": {},
   "outputs": [
    {
     "name": "stdout",
     "output_type": "stream",
     "text": [
      "Rand Index (0-1): 0.7054171112924487\n",
      "Homogeneity Score: 0.22742013563239458\n",
      "Completness Score: 0.18000315377228676\n",
      "V-Measure (0-1): 0.20095238887775702\n"
     ]
    }
   ],
   "source": [
    "get_validation(true, pred)"
   ]
  }
 ],
 "metadata": {
  "interpreter": {
   "hash": "61076814ae14059691efa197a0305cb04a7d95ecd704f7024339357704be25cb"
  },
  "kernelspec": {
   "display_name": "Python 3.9.12 64-bit",
   "language": "python",
   "name": "python3"
  },
  "language_info": {
   "codemirror_mode": {
    "name": "ipython",
    "version": 3
   },
   "file_extension": ".py",
   "mimetype": "text/x-python",
   "name": "python",
   "nbconvert_exporter": "python",
   "pygments_lexer": "ipython3",
   "version": "3.9.12"
  },
  "orig_nbformat": 4
 },
 "nbformat": 4,
 "nbformat_minor": 2
}
