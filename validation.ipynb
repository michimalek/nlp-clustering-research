{
 "cells": [
  {
   "cell_type": "code",
   "execution_count": 1,
   "metadata": {},
   "outputs": [],
   "source": [
    "import numpy as np\n",
    "import pandas as pd\n",
    "from scripts.embeddings.preprocessing import prepare_words, remove_duplicates, prepare_sentences\n",
    "from scripts.clustering.validation import get_validation_df, contingency_matrix, get_validation_txt"
   ]
  },
  {
   "cell_type": "code",
   "execution_count": 2,
   "metadata": {},
   "outputs": [],
   "source": [
    "recs = pd.read_excel(\"data/Recommendations_label.xlsx\")\n",
    "uniq = recs[\"Recommendation\"].unique()\n",
    "docs = prepare_sentences(uniq)"
   ]
  },
  {
   "cell_type": "code",
   "execution_count": 5,
   "metadata": {},
   "outputs": [],
   "source": [
    "import os\n",
    "\n",
    "true = pd.read_excel(\"data/Recommendations_label.xlsx\")[\"Label\"]\n",
    "open('readme.txt', 'w').close()\n",
    "\n",
    "for subdir, dirs, files in os.walk(\"results_new\"):\n",
    "    for file in files:\n",
    "        filepath = subdir + os.sep + file\n",
    "\n",
    "        pred = pd.read_excel(filepath)[\"Label\"]\n",
    "        \n",
    "        with open('readme.txt', 'a') as f:\n",
    "            f.write('------------------------------\\n')\n",
    "            f.writelines(get_validation(true, pred))\n",
    "            f.write('------------------------------\\n\\n')\n",
    "\n",
    "\n",
    "        # if filepath.endswith(\".xlsx\"):\n",
    "        "
   ]
  },
  {
   "cell_type": "code",
   "execution_count": 5,
   "metadata": {},
   "outputs": [],
   "source": [
    "pred = true = pd.read_excel(\"results_new/kmeans_11.xlsx\")[\"Label\"]\n",
    "true = pd.read_excel(\"data/Recommendations_label.xlsx\")[\"Label\"]"
   ]
  },
  {
   "cell_type": "code",
   "execution_count": 26,
   "metadata": {},
   "outputs": [
    {
     "ename": "TypeError",
     "evalue": "list indices must be integers or slices, not tuple",
     "output_type": "error",
     "traceback": [
      "\u001b[1;31m---------------------------------------------------------------------------\u001b[0m",
      "\u001b[1;31mTypeError\u001b[0m                                 Traceback (most recent call last)",
      "\u001b[1;32mc:\\Users\\Michi\\Documents\\Projects\\nlp-clustering-research\\validation.ipynb Cell 7'\u001b[0m in \u001b[0;36m<cell line: 2>\u001b[1;34m()\u001b[0m\n\u001b[0;32m      <a href='vscode-notebook-cell:/c%3A/Users/Michi/Documents/Projects/nlp-clustering-research/validation.ipynb#ch0000007?line=0'>1</a>\u001b[0m df \u001b[39m=\u001b[39m get_validation_df(true, pred)\n\u001b[1;32m----> <a href='vscode-notebook-cell:/c%3A/Users/Michi/Documents/Projects/nlp-clustering-research/validation.ipynb#ch0000007?line=1'>2</a>\u001b[0m df[:,\u001b[39m1\u001b[39;49m]\n",
      "\u001b[1;31mTypeError\u001b[0m: list indices must be integers or slices, not tuple"
     ]
    }
   ],
   "source": [
    "df = get_validation_df(true, pred)"
   ]
  }
 ],
 "metadata": {
  "kernelspec": {
   "display_name": "Python 3.10.4 64-bit",
   "language": "python",
   "name": "python3"
  },
  "language_info": {
   "codemirror_mode": {
    "name": "ipython",
    "version": 3
   },
   "file_extension": ".py",
   "mimetype": "text/x-python",
   "name": "python",
   "nbconvert_exporter": "python",
   "pygments_lexer": "ipython3",
   "version": "3.10.4"
  },
  "orig_nbformat": 4,
  "vscode": {
   "interpreter": {
    "hash": "0a0230e119e70663ce535c37aa16b450fced0c9df566f225ad95a7ec7eab4bb2"
   }
  }
 },
 "nbformat": 4,
 "nbformat_minor": 2
}
