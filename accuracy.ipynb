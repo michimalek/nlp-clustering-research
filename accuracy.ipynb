{
 "cells": [
  {
   "cell_type": "code",
   "execution_count": 1,
   "metadata": {},
   "outputs": [],
   "source": [
    "import pandas as pd\n",
    "import numpy as np\n",
    "from sklearn.metrics import accuracy_score, precision_score, silhouette_score"
   ]
  },
  {
   "cell_type": "markdown",
   "metadata": {},
   "source": [
    "# Testing accuracy and precision of similar models with same number of clusters"
   ]
  },
  {
   "cell_type": "code",
   "execution_count": 2,
   "metadata": {},
   "outputs": [],
   "source": [
    "affinity = pd.read_excel(\"results_new/affinity.xlsx\")[\"Label\"]\n",
    "kmeans_11 = pd.read_excel(\"results_new/kmeans_11.xlsx\")[\"Label\"]\n",
    "kmeans_7 = pd.read_excel(\"results_new/kmeans_7.xlsx\")[\"Label\"]\n",
    "spectral_9 = pd.read_excel(\"results_new/spectral_9.xlsx\")[\"Label\"]\n",
    "spectral_8 = pd.read_excel(\"results_new/spectral_8.xlsx\")[\"Label\"]\n",
    "spectral_7 = pd.read_excel(\"results_new/spectral_7.xlsx\")[\"Label\"]\n",
    "agglomerative_7 = pd.read_excel(\"results_new/agglomerative_7.xlsx\")[\"Label\"]\n",
    "agglomerative_9 = pd.read_excel(\"results_new/agglomerative_9.xlsx\")[\"Label\"]"
   ]
  },
  {
   "cell_type": "code",
   "execution_count": 3,
   "metadata": {},
   "outputs": [],
   "source": [
    "def print_accuracy(true, pred):\n",
    "    print(f\"Accuracy Score: {accuracy_score(true, pred)}\")\n",
    "    print(f\"Precision: {precision_score(true, pred, average='macro')}\")"
   ]
  },
  {
   "cell_type": "code",
   "execution_count": 4,
   "metadata": {},
   "outputs": [
    {
     "name": "stdout",
     "output_type": "stream",
     "text": [
      "Accuracy Score: 0.01675977653631285\n",
      "Precision: 0.017857142857142856\n"
     ]
    }
   ],
   "source": [
    "print_accuracy(kmeans_7, agglomerative_7)"
   ]
  },
  {
   "cell_type": "code",
   "execution_count": 22,
   "metadata": {},
   "outputs": [
    {
     "name": "stdout",
     "output_type": "stream",
     "text": [
      "Accuracy Score: 0.2737430167597765\n",
      "Precision: 0.3339954163483575\n"
     ]
    }
   ],
   "source": [
    "print_accuracy(kmeans_7, spectral_7)"
   ]
  },
  {
   "cell_type": "code",
   "execution_count": 23,
   "metadata": {},
   "outputs": [
    {
     "name": "stdout",
     "output_type": "stream",
     "text": [
      "Accuracy Score: 0.0\n",
      "Precision: 0.0\n"
     ]
    },
    {
     "name": "stderr",
     "output_type": "stream",
     "text": [
      "c:\\Users\\Michi\\AppData\\Local\\Programs\\Python\\Python39\\lib\\site-packages\\sklearn\\metrics\\_classification.py:1327: UndefinedMetricWarning: Precision is ill-defined and being set to 0.0 in labels with no predicted samples. Use `zero_division` parameter to control this behavior.\n",
      "  _warn_prf(average, modifier, msg_start, len(result))\n"
     ]
    }
   ],
   "source": [
    "print_accuracy(spectral_7, agglomerative_7)"
   ]
  },
  {
   "cell_type": "code",
   "execution_count": 24,
   "metadata": {},
   "outputs": [
    {
     "name": "stdout",
     "output_type": "stream",
     "text": [
      "Accuracy Score: 0.05027932960893855\n",
      "Precision: 0.11333333333333333\n"
     ]
    }
   ],
   "source": [
    "print_accuracy(agglomerative_9, spectral_9)"
   ]
  },
  {
   "cell_type": "code",
   "execution_count": null,
   "metadata": {},
   "outputs": [],
   "source": []
  }
 ],
 "metadata": {
  "kernelspec": {
   "display_name": "Python 3.9.12 64-bit",
   "language": "python",
   "name": "python3"
  },
  "language_info": {
   "codemirror_mode": {
    "name": "ipython",
    "version": 3
   },
   "file_extension": ".py",
   "mimetype": "text/x-python",
   "name": "python",
   "nbconvert_exporter": "python",
   "pygments_lexer": "ipython3",
   "version": "3.9.12"
  },
  "orig_nbformat": 4,
  "vscode": {
   "interpreter": {
    "hash": "61076814ae14059691efa197a0305cb04a7d95ecd704f7024339357704be25cb"
   }
  }
 },
 "nbformat": 4,
 "nbformat_minor": 2
}
